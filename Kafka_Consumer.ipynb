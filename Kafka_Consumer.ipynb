{
  "nbformat": 4,
  "nbformat_minor": 0,
  "metadata": {
    "colab": {
      "provenance": []
    },
    "kernelspec": {
      "name": "python3",
      "display_name": "Python 3"
    },
    "language_info": {
      "name": "python"
    }
  },
  "cells": [
    {
      "cell_type": "code",
      "source": [
        "pip install kafka-python"
      ],
      "metadata": {
        "colab": {
          "base_uri": "https://localhost:8080/"
        },
        "id": "E_HvPmXtD7Nj",
        "outputId": "26e056a4-48a2-45db-98d1-034e9c1aab10"
      },
      "execution_count": 2,
      "outputs": [
        {
          "output_type": "stream",
          "name": "stdout",
          "text": [
            "Collecting kafka-python\n",
            "  Downloading kafka_python-2.0.2-py2.py3-none-any.whl (246 kB)\n",
            "\u001b[?25l     \u001b[90m━━━━━━━━━━━━━━━━━━━━━━━━━━━━━━━━━━━━━━━━\u001b[0m \u001b[32m0.0/246.5 kB\u001b[0m \u001b[31m?\u001b[0m eta \u001b[36m-:--:--\u001b[0m\r\u001b[2K     \u001b[91m━━━━━━━━━━━\u001b[0m\u001b[91m╸\u001b[0m\u001b[90m━━━━━━━━━━━━━━━━━━━━━━━━━━━━\u001b[0m \u001b[32m71.7/246.5 kB\u001b[0m \u001b[31m2.0 MB/s\u001b[0m eta \u001b[36m0:00:01\u001b[0m\r\u001b[2K     \u001b[90m━━━━━━━━━━━━━━━━━━━━━━━━━━━━━━━━━━━━━━━━\u001b[0m \u001b[32m246.5/246.5 kB\u001b[0m \u001b[31m4.2 MB/s\u001b[0m eta \u001b[36m0:00:00\u001b[0m\n",
            "\u001b[?25hInstalling collected packages: kafka-python\n",
            "Successfully installed kafka-python-2.0.2\n"
          ]
        }
      ]
    },
    {
      "cell_type": "code",
      "execution_count": null,
      "metadata": {
        "id": "xdsRH1ntCyAf"
      },
      "outputs": [],
      "source": [
        "from kafka import KafkaConsumer\n",
        "import json\n",
        "from json import dumps\n",
        "from json import loads\n",
        "import s3fs\n",
        "from s3fs import S3FileSystem"
      ]
    },
    {
      "cell_type": "code",
      "source": [
        "topic = 'stock_market'\n",
        "bootstrap_servers = ['Your IP Address']\n",
        "s3_bucket = 'kafka-stock-market'"
      ],
      "metadata": {
        "id": "SkHYiRgSBJa1"
      },
      "execution_count": null,
      "outputs": []
    },
    {
      "cell_type": "code",
      "source": [
        "consumer = KafkaConsumer(\n",
        "    topic,\n",
        "    bootstrap_servers=bootstrap_servers,\n",
        "    value_deserializer=lambda x: json.loads(x.decode('utf-8'))\n",
        ")"
      ],
      "metadata": {
        "id": "XjjBlfiCD3l-"
      },
      "execution_count": 3,
      "outputs": []
    },
    {
      "cell_type": "code",
      "source": [
        "s3 = S3FileSystem(anon = False)"
      ],
      "metadata": {
        "id": "D9gpVaMB-pEE"
      },
      "execution_count": null,
      "outputs": []
    },
    {
      "cell_type": "code",
      "source": [
        "# Function to write messages to S3\n",
        "def write_to_s3(data, index):\n",
        "    s3_path = f\"s3://{s3_bucket}/stock_market_{index}.json\"\n",
        "    with s3.open(s3_path, 'w') as s3_file:\n",
        "        json.dump(data, s3_file)"
      ],
      "metadata": {
        "id": "KxakNjRPCGk4"
      },
      "execution_count": null,
      "outputs": []
    },
    {
      "cell_type": "code",
      "source": [
        "# Iterate over Kafka messages and write to S3\n",
        "for index, message in enumerate(consumer):\n",
        "    write_to_s3(message.value, index)"
      ],
      "metadata": {
        "id": "p8oJ2Ef6-pcN"
      },
      "execution_count": null,
      "outputs": []
    }
  ]
}